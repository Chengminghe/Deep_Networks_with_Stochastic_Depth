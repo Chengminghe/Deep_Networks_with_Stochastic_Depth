{
 "cells": [
  {
   "cell_type": "markdown",
   "id": "perceived-cause",
   "metadata": {},
   "source": [
    "## Training of SVHN using 152-layer ResNet with constant depth"
   ]
  },
  {
   "cell_type": "code",
   "execution_count": null,
   "id": "provincial-juvenile",
   "metadata": {},
   "outputs": [],
   "source": [
    "import tensorflow as tf\n",
    "import numpy as np\n",
    "from utils.neuralnets.ResNet152 import ResNet152\n",
    "import time\n",
    "from tensorflow.keras.preprocessing.image import ImageDataGenerator\n",
    "from tensorflow.keras.layers import Conv2D,Input,Flatten,Dense\n",
    "from tensorflow.keras import Model\n",
    "import tensorflow_datasets as tfds\n",
    "import random"
   ]
  },
  {
   "cell_type": "code",
   "execution_count": 3,
   "id": "96321051",
   "metadata": {},
   "outputs": [
    {
     "data": {
      "text/plain": [
       "{'train': <PrefetchDataset shapes: {image: (32, 32, 3), label: ()}, types: {image: tf.uint8, label: tf.int64}>,\n",
       " 'test': <PrefetchDataset shapes: {image: (32, 32, 3), label: ()}, types: {image: tf.uint8, label: tf.int64}>,\n",
       " 'extra': <PrefetchDataset shapes: {image: (32, 32, 3), label: ()}, types: {image: tf.uint8, label: tf.int64}>}"
      ]
     },
     "execution_count": 3,
     "metadata": {},
     "output_type": "execute_result"
    }
   ],
   "source": [
    "data=tfds.load('svhn_cropped')\n",
    "data"
   ]
  },
  {
   "cell_type": "code",
   "execution_count": 4,
   "id": "3ed715fc",
   "metadata": {},
   "outputs": [],
   "source": [
    "def train_val_split(data1,data2,number_of_samples=[400,100]):\n",
    "    val = []\n",
    "    val_label = []\n",
    "    train = []\n",
    "    train_label =[]\n",
    "    label_count = np.zeros(10)\n",
    "    EXTRA_COUNT = 30000\n",
    "    for sample in data1:\n",
    "        if label_count[sample['label']] < number_of_samples[0]:\n",
    "            val.append(sample['image'].numpy().astype('float32'))\n",
    "            val_label.append(sample['label'].numpy().astype('float32'))\n",
    "            label_count[sample['label']] += 1\n",
    "        else:\n",
    "            train.append(sample['image'].numpy().astype('float32'))\n",
    "            train_label.append(sample['label'].numpy().astype('float32'))\n",
    "    label_count = np.zeros(10)\n",
    "    extra_count = 0\n",
    "    for sample in data2:\n",
    "        if label_count[sample['label']] < number_of_samples[1]:\n",
    "            val.append(sample['image'].numpy().astype('float32'))\n",
    "            val_label.append(sample['label'].numpy().astype('float32'))\n",
    "            label_count[sample['label']] += 1\n",
    "        else:\n",
    "            train.append(sample['image'].numpy().astype('float32'))\n",
    "            train_label.append(sample['label'].numpy().astype('float32'))\n",
    "        extra_count += 1\n",
    "        if extra_count > EXTRA_COUNT:\n",
    "            break\n",
    "    return (np.array(train),np.array(train_label)),(np.array(val),np.array(val_label))"
   ]
  },
  {
   "cell_type": "code",
   "execution_count": 5,
   "id": "01b67ee0",
   "metadata": {},
   "outputs": [],
   "source": [
    "train_data, val_data = train_val_split(data['train'],data['extra'])\n",
    "x_train ,y_train = train_data\n",
    "x_val, y_val = val_data"
   ]
  },
  {
   "cell_type": "code",
   "execution_count": 6,
   "id": "0472ce48",
   "metadata": {},
   "outputs": [],
   "source": [
    "x_test = np.array([sample['image'].numpy().astype('float32') for sample in data['test']])\n",
    "y_test = np.array([sample['label'].numpy().astype('float32') for sample in data['test']])"
   ]
  },
  {
   "cell_type": "code",
   "execution_count": 7,
   "id": "7813ccb0",
   "metadata": {},
   "outputs": [],
   "source": [
    "input_shape = x_train.shape[1:]\n",
    "num_class = 10\n",
    "model = ResNet152(input_shape=input_shape,num_class=num_class)"
   ]
  },
  {
   "cell_type": "code",
   "execution_count": 8,
   "id": "31ffc546",
   "metadata": {},
   "outputs": [],
   "source": [
    "batch_size = 128\n",
    "train_data = tf.data.Dataset.from_tensor_slices((x_train, y_train)).batch(batch_size)\n",
    "validation_data = tf.data.Dataset.from_tensor_slices((x_val, y_val)).batch(batch_size)"
   ]
  },
  {
   "cell_type": "code",
   "execution_count": null,
   "id": "a8d5f9e1",
   "metadata": {
    "scrolled": true
   },
   "outputs": [
    {
     "name": "stdout",
     "output_type": "stream",
     "text": [
      "Epoch 1/25\n",
      "Training loss at step 0: 20.4907\n",
      "Training loss at step 200: 2.3650\n",
      "Training loss at step 400: 2.3381\n",
      "Training loss at step 600: 2.3401\n",
      "Training accuracy: 0.1818 Validation accuracy: 0.1004 Time taken: 342.69s\n",
      "Epoch 2/25\n",
      "Training loss at step 0: 1.8792\n",
      "Training loss at step 200: 2.2816\n",
      "Training loss at step 400: 2.0295\n",
      "Training loss at step 600: 0.9624\n",
      "Training accuracy: 0.4057 Validation accuracy: 0.5968 Time taken: 327.17s\n",
      "Epoch 3/25\n",
      "Training loss at step 0: 3.9366\n",
      "Training loss at step 200: 0.6660\n",
      "Training loss at step 400: 0.5560\n",
      "Training loss at step 600: 0.2592\n",
      "Training accuracy: 0.8553 Validation accuracy: 0.8488 Time taken: 326.84s\n",
      "Epoch 4/25\n",
      "Training loss at step 0: 4.2145\n",
      "Training loss at step 200: 0.3197\n",
      "Training loss at step 400: 0.4229\n",
      "Training loss at step 600: 0.1225\n",
      "Training accuracy: 0.9149 Validation accuracy: 0.8988 Time taken: 326.88s\n",
      "Epoch 5/25\n",
      "Training loss at step 0: 3.3797\n",
      "Training loss at step 200: 0.2708\n",
      "Training loss at step 400: 0.3420\n",
      "Training loss at step 600: 0.0598\n",
      "Training accuracy: 0.9349 Validation accuracy: 0.9094 Time taken: 326.28s\n",
      "Epoch 6/25\n",
      "Training loss at step 0: 3.1541\n",
      "Training loss at step 200: 0.2075\n",
      "Training loss at step 400: 0.3016\n",
      "Training loss at step 600: 0.0502\n",
      "Training accuracy: 0.9466 Validation accuracy: 0.9174 Time taken: 326.45s\n",
      "Epoch 7/25\n",
      "Training loss at step 0: 2.6258\n",
      "Training loss at step 200: 0.1458\n",
      "Training loss at step 400: 0.2192\n",
      "Training loss at step 600: 0.0327\n",
      "Training accuracy: 0.9586 Validation accuracy: 0.9060 Time taken: 326.83s\n",
      "Epoch 8/25\n",
      "Training loss at step 0: 2.5352\n",
      "Training loss at step 200: 0.1629\n",
      "Training loss at step 400: 0.2073\n",
      "Training loss at step 600: 0.0229\n",
      "Training accuracy: 0.9612 Validation accuracy: 0.8998 Time taken: 325.37s\n",
      "Epoch 9/25\n",
      "Training loss at step 0: 2.1778\n",
      "Training loss at step 200: 0.1283\n",
      "Training loss at step 400: 0.1301\n",
      "Training loss at step 600: 0.0257\n",
      "Training accuracy: 0.9674 Validation accuracy: 0.8666 Time taken: 324.89s\n",
      "Epoch 10/25\n",
      "Training loss at step 0: 2.1455\n",
      "Training loss at step 200: 0.1112\n",
      "Training loss at step 400: 0.1894\n",
      "Training loss at step 600: 0.0204\n",
      "Training accuracy: 0.9708 Validation accuracy: 0.8994 Time taken: 325.47s\n",
      "Epoch 11/25\n",
      "Training loss at step 0: 2.0424\n",
      "Training loss at step 200: 0.0974\n",
      "Training loss at step 400: 0.1041\n",
      "Training loss at step 600: 0.0166\n",
      "Training accuracy: 0.9744 Validation accuracy: 0.9122 Time taken: 325.60s\n",
      "Epoch 12/25\n",
      "Training loss at step 0: 1.9863\n",
      "Training loss at step 200: 0.1084\n",
      "Training loss at step 400: 0.1111\n",
      "Training loss at step 600: 0.0058\n",
      "Training accuracy: 0.9761 Validation accuracy: 0.8694 Time taken: 326.01s\n",
      "Epoch 13/25\n",
      "Training loss at step 0: 1.9437\n",
      "Training loss at step 200: 0.0932\n",
      "Training loss at step 400: 0.1602\n",
      "Training loss at step 600: 0.0196\n",
      "Training accuracy: 0.9778 Validation accuracy: 0.9068 Time taken: 325.27s\n",
      "Epoch 14/25\n",
      "Training loss at step 0: 1.9831\n",
      "Training loss at step 200: 0.1009\n",
      "Training loss at step 400: 0.1485\n",
      "Training loss at step 600: 0.0078\n",
      "Training accuracy: 0.9792 Validation accuracy: 0.9014 Time taken: 326.68s\n",
      "Epoch 15/25\n",
      "Training loss at step 0: 1.7682\n",
      "Training loss at step 200: 0.0577\n",
      "Training loss at step 400: 0.0649\n",
      "Training loss at step 600: 0.0062\n",
      "Training accuracy: 0.9815 Validation accuracy: 0.8996 Time taken: 327.11s\n",
      "Epoch 16/25\n",
      "Training loss at step 0: 1.4011\n",
      "Training loss at step 200: 0.0598\n",
      "Training loss at step 400: 0.0393\n",
      "Training loss at step 600: 0.0031\n",
      "Training accuracy: 0.9867 Validation accuracy: 0.9430 Time taken: 326.30s\n",
      "Epoch 17/25\n",
      "Training loss at step 0: 0.8298\n",
      "Training loss at step 200: 0.0273\n",
      "Training loss at step 400: 0.0248\n",
      "Training loss at step 600: 0.0027\n",
      "Training accuracy: 0.9936 Validation accuracy: 0.9436 Time taken: 326.73s\n",
      "Epoch 18/25\n",
      "Training loss at step 0: 0.5927\n",
      "Training loss at step 200: 0.0208\n",
      "Training loss at step 400: 0.0151\n",
      "Training loss at step 600: 0.0023\n",
      "Training accuracy: 0.9961 Validation accuracy: 0.9428 Time taken: 325.22s\n",
      "Epoch 19/25\n",
      "Training loss at step 0: 0.4944\n",
      "Training loss at step 200: 0.0141\n",
      "Training loss at step 400: 0.0097\n",
      "Training loss at step 600: 0.0021\n",
      "Training accuracy: 0.9973 Validation accuracy: 0.9428 Time taken: 325.27s\n",
      "Epoch 20/25\n",
      "Training loss at step 0: 0.4314\n",
      "Training loss at step 200: 0.0093\n",
      "Training loss at step 400: 0.0068\n",
      "Training loss at step 600: 0.0019\n",
      "Training accuracy: 0.9979 Validation accuracy: 0.9418 Time taken: 325.95s\n",
      "Epoch 21/25\n",
      "Training loss at step 0: 0.3805\n",
      "Training loss at step 200: 0.0040\n",
      "Training loss at step 400: 0.0055\n",
      "Training loss at step 600: 0.0015\n",
      "Training accuracy: 0.9982 Validation accuracy: 0.9414 Time taken: 325.20s\n",
      "Epoch 22/25\n",
      "Training loss at step 0: 0.3463\n",
      "Training loss at step 200: 0.0039\n",
      "Training loss at step 400: 0.0053\n",
      "Training loss at step 600: 0.0016\n",
      "Training accuracy: 0.9984 Validation accuracy: 0.9408 Time taken: 324.86s\n",
      "Epoch 23/25\n",
      "Training loss at step 0: 0.3309\n",
      "Training loss at step 200: 0.0039\n",
      "Training loss at step 400: 0.0052\n",
      "Training loss at step 600: 0.0016\n",
      "Training accuracy: 0.9985 Validation accuracy: 0.9406 Time taken: 325.39s\n",
      "Epoch 24/25\n",
      "Training loss at step 0: 0.3212\n",
      "Training loss at step 200: 0.0038\n",
      "Training loss at step 400: 0.0051\n",
      "Training loss at step 600: 0.0016\n",
      "Training accuracy: 0.9985 Validation accuracy: 0.9406 Time taken: 327.64s\n",
      "Epoch 25/25\n",
      "Training loss at step 0: 0.3137\n",
      "Training loss at step 200: 0.0037\n",
      "Training loss at step 400: 0.0050\n"
     ]
    }
   ],
   "source": [
    "optimizer = tf.keras.optimizers.SGD(learning_rate=0.1,nesterov=True)\n",
    "loss_fn = tf.keras.losses.SparseCategoricalCrossentropy()\n",
    "train_acc_metric = tf.keras.metrics.SparseCategoricalAccuracy()\n",
    "val_acc_metric = tf.keras.metrics.SparseCategoricalAccuracy()\n",
    "\n",
    "\n",
    "epochs = 25\n",
    "history = [[],[],[]]\n",
    "for epoch in range(epochs):\n",
    "    print(\"Epoch %d/%d\" % (epoch+1,epochs))\n",
    "    if (epoch==15) | (epoch==20):\n",
    "        optimizer.learning_rate = optimizer.learning_rate/10\n",
    "    \n",
    "    start_time = time.time()\n",
    "    step = 0\n",
    "    for x_batch_train, y_batch_train in train_data:\n",
    "        with tf.GradientTape() as tape:\n",
    "            logits = model(x_batch_train, training=True)\n",
    "            loss_value = loss_fn(y_batch_train, logits)\n",
    "        grads = tape.gradient(loss_value, model.trainable_weights)\n",
    "        optimizer.apply_gradients(zip(grads, model.trainable_weights))\n",
    "        train_acc_metric.update_state(y_batch_train, logits)\n",
    "        if step % 200 == 0:\n",
    "            print(\n",
    "                \"Training loss at step %d: %.4f\"\n",
    "                % (step, float(loss_value))\n",
    "            )\n",
    "        step += 1\n",
    "        if step > len(x_train)/batch_size:\n",
    "            break\n",
    "\n",
    "    history[0].append(loss_value.numpy())\n",
    "    train_acc = train_acc_metric.result()\n",
    "    train_acc_metric.reset_states()\n",
    "    \n",
    "    step = 0\n",
    "    for x_batch_val, y_batch_val in validation_data:\n",
    "        val_logits = model(x_batch_val, training=False)\n",
    "        val_acc_metric.update_state(y_batch_val, val_logits)\n",
    "        step += 1\n",
    "        if step > len(x_val)/batch_size:\n",
    "            break\n",
    "    val_acc = val_acc_metric.result()\n",
    "    val_acc_metric.reset_states()\n",
    "    history[1].append(train_acc.numpy())\n",
    "    history[2].append(val_acc.numpy())\n",
    "    print(\"Training accuracy: %.4f\" % (float(train_acc),)\n",
    "          ,\"Validation accuracy: %.4f\" % (float(val_acc),),\"Time taken: %.2fs\" % (time.time() - start_time))\n"
   ]
  },
  {
   "cell_type": "code",
   "execution_count": 1,
   "id": "adeb30a4",
   "metadata": {
    "scrolled": true
   },
   "outputs": [
    {
     "data": {
      "text/plain": [
       "0.93913682"
      ]
     },
     "execution_count": 1,
     "metadata": {},
     "output_type": "execute_result"
    }
   ],
   "source": [
    "y_pred = model.predict(x_test)\n",
    "m = tf.keras.metrics.SparseCategoricalAccuracy()\n",
    "m.update_state(y_test, y_pred)\n",
    "m.result().numpy()"
   ]
  },
  {
   "cell_type": "code",
   "execution_count": 3,
   "id": "2bad79dc",
   "metadata": {},
   "outputs": [],
   "source": [
    "# log = np.array(history)\n",
    "# np.save(\"./Logs/ResNet152_svhn\",log)"
   ]
  },
  {
   "cell_type": "code",
   "execution_count": 4,
   "id": "9967c696",
   "metadata": {},
   "outputs": [],
   "source": [
    "with open('./Logs/ResNet152_svhn.npy', 'rb') as f:\n",
    "     log = np.load(f)"
   ]
  },
  {
   "cell_type": "code",
   "execution_count": 6,
   "id": "97d0d541",
   "metadata": {},
   "outputs": [
    {
     "data": {
      "text/plain": [
       "<matplotlib.legend.Legend at 0x7fe33fc85860>"
      ]
     },
     "execution_count": 6,
     "metadata": {},
     "output_type": "execute_result"
    },
    {
     "data": {
      "image/png": "[encoded data removed]",
      "text/plain": [
       "<Figure size 432x288 with 1 Axes>"
      ]
     },
     "metadata": {
      "needs_background": "light"
     },
     "output_type": "display_data"
    }
   ],
   "source": [
    "import matplotlib.pyplot as plt\n",
    "plt.plot(1-log[1],label='training error')\n",
    "plt.plot(1-log[2],label='validation error')\n",
    "plt.ylim(0,0.2)\n",
    "plt.xlabel('epochs')\n",
    "plt.ylabel('error')\n",
    "plt.legend()"
   ]
  },
  {
   "cell_type": "code",
   "execution_count": null,
   "id": "4e2fdf7f",
   "metadata": {},
   "outputs": [],
   "source": [
    "# model.save(\"./Models/ResNet152_svhn\")"
   ]
  }
 ],
 "metadata": {
  "kernelspec": {
   "display_name": "Python 3",
   "language": "python",
   "name": "python3"
  },
  "language_info": {
   "codemirror_mode": {
    "name": "ipython",
    "version": 3
   },
   "file_extension": ".py",
   "mimetype": "text/x-python",
   "name": "python",
   "nbconvert_exporter": "python",
   "pygments_lexer": "ipython3",
   "version": "3.9.1"
  }
 },
 "nbformat": 4,
 "nbformat_minor": 5
}
