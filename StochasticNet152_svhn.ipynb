{
 "cells": [
  {
   "cell_type": "markdown",
   "id": "deluxe-stylus",
   "metadata": {},
   "source": [
    "## Training of SVHN using 152-layer ResNet with stochastic depth"
   ]
  },
  {
   "cell_type": "code",
   "execution_count": null,
   "id": "bronze-greensboro",
   "metadata": {},
   "outputs": [],
   "source": [
    "import tensorflow as tf\n",
    "import numpy as np\n",
    "from utils.neuralnets.StochasticNet152 import StochasticNet152\n",
    "import time\n",
    "from tensorflow.keras.preprocessing.image import ImageDataGenerator\n",
    "from tensorflow.keras.layers import Conv2D,Input,Flatten,Dense\n",
    "from tensorflow.keras import Model\n",
    "import tensorflow_datasets as tfds\n",
    "import matplotlib.pyplot as plt"
   ]
  },
  {
   "cell_type": "code",
   "execution_count": 2,
   "id": "alien-vinyl",
   "metadata": {},
   "outputs": [
    {
     "data": {
      "text/plain": [
       "{'train': <PrefetchDataset shapes: {image: (32, 32, 3), label: ()}, types: {image: tf.uint8, label: tf.int64}>,\n",
       " 'test': <PrefetchDataset shapes: {image: (32, 32, 3), label: ()}, types: {image: tf.uint8, label: tf.int64}>,\n",
       " 'extra': <PrefetchDataset shapes: {image: (32, 32, 3), label: ()}, types: {image: tf.uint8, label: tf.int64}>}"
      ]
     },
     "execution_count": 2,
     "metadata": {},
     "output_type": "execute_result"
    }
   ],
   "source": [
    "data=tfds.load('svhn_cropped')\n",
    "data"
   ]
  },
  {
   "cell_type": "code",
   "execution_count": 3,
   "id": "filled-project",
   "metadata": {},
   "outputs": [],
   "source": [
    "def train_val_split(data1,data2,number_of_samples=[400,100]):\n",
    "    val = []\n",
    "    val_label = []\n",
    "    train = []\n",
    "    train_label =[]\n",
    "    label_count = np.zeros(10)\n",
    "    for sample in data1:\n",
    "        if label_count[sample['label']] < number_of_samples[0]:\n",
    "            val.append(sample['image'].numpy().astype('float32'))\n",
    "            val_label.append(sample['label'].numpy().astype('float32'))\n",
    "            label_count[sample['label']] += 1\n",
    "        else:\n",
    "            train.append(sample['image'].numpy().astype('float32'))\n",
    "            train_label.append(sample['label'].numpy().astype('float32'))\n",
    "    label_count = np.zeros(10)\n",
    "    extra_count = 0\n",
    "    for sample in data2:\n",
    "        if label_count[sample['label']] < number_of_samples[1]:\n",
    "            val.append(sample['image'].numpy().astype('float32'))\n",
    "            val_label.append(sample['label'].numpy().astype('float32'))\n",
    "            label_count[sample['label']] += 1\n",
    "        else:\n",
    "            train.append(sample['image'].numpy().astype('float32'))\n",
    "            train_label.append(sample['label'].numpy().astype('float32'))\n",
    "        extra_count += 1\n",
    "        if extra_count > 30000:\n",
    "            break\n",
    "    return (np.array(train),np.array(train_label)),(np.array(val),np.array(val_label))"
   ]
  },
  {
   "cell_type": "code",
   "execution_count": 4,
   "id": "7bcc13f0",
   "metadata": {},
   "outputs": [],
   "source": [
    "train_data, val_data = train_val_split(data['train'],data['extra'])\n",
    "x_train ,y_train = train_data\n",
    "x_val, y_val = val_data"
   ]
  },
  {
   "cell_type": "code",
   "execution_count": 10,
   "id": "8bb7f35d",
   "metadata": {},
   "outputs": [],
   "source": [
    "x_test = np.array([sample['image'].numpy().astype('float32') for sample in data['test']])\n",
    "y_test = np.array([sample['label'].numpy().astype('float32') for sample in data['test']])"
   ]
  },
  {
   "cell_type": "code",
   "execution_count": 5,
   "id": "under-objective",
   "metadata": {},
   "outputs": [],
   "source": [
    "input_shape = x_train.shape[1:]\n",
    "num_class = 10\n",
    "model = StochasticNet152(input_shape=input_shape,num_class=num_class)"
   ]
  },
  {
   "cell_type": "code",
   "execution_count": 6,
   "id": "40a70afb",
   "metadata": {},
   "outputs": [],
   "source": [
    "batch_size = 128\n",
    "train_data = tf.data.Dataset.from_tensor_slices((x_train, y_train)).batch(batch_size)\n",
    "validation_data = tf.data.Dataset.from_tensor_slices((x_val, y_val)).batch(batch_size)"
   ]
  },
  {
   "cell_type": "code",
   "execution_count": 7,
   "id": "southwest-assessment",
   "metadata": {
    "scrolled": true
   },
   "outputs": [
    {
     "name": "stdout",
     "output_type": "stream",
     "text": [
      "Epoch 1/25\n",
      "Training loss at step 0: 1.6000\n",
      "Training loss at step 200: 2.8199\n",
      "Training loss at step 400: 2.3341\n",
      "Training loss at step 600: 2.3283\n",
      "Training accuracy: 0.1788 Validation accuracy: 0.1002 Time taken: 297.30s\n",
      "Epoch 2/25\n",
      "Training loss at step 0: 1.8519\n",
      "Training loss at step 200: 2.2920\n",
      "Training loss at step 400: 2.2621\n",
      "Training loss at step 600: 2.3022\n",
      "Training accuracy: 0.1882 Validation accuracy: 0.0998 Time taken: 287.83s\n",
      "Epoch 3/25\n",
      "Training loss at step 0: 1.8064\n",
      "Training loss at step 200: 2.2954\n",
      "Training loss at step 400: 2.2190\n",
      "Training loss at step 600: 1.9669\n",
      "Training accuracy: 0.2314 Validation accuracy: 0.1948 Time taken: 289.04s\n",
      "Epoch 4/25\n",
      "Training loss at step 0: 4.0708\n",
      "Training loss at step 200: 1.3168\n",
      "Training loss at step 400: 1.5066\n",
      "Training loss at step 600: 0.7821\n",
      "Training accuracy: 0.5846 Validation accuracy: 0.6480 Time taken: 288.68s\n",
      "Epoch 5/25\n",
      "Training loss at step 0: 2.9345\n",
      "Training loss at step 200: 0.5639\n",
      "Training loss at step 400: 0.6526\n",
      "Training loss at step 600: 0.2571\n",
      "Training accuracy: 0.8285 Validation accuracy: 0.8576 Time taken: 286.87s\n",
      "Epoch 6/25\n",
      "Training loss at step 0: 3.6096\n",
      "Training loss at step 200: 0.3934\n",
      "Training loss at step 400: 0.6589\n",
      "Training loss at step 600: 0.1977\n",
      "Training accuracy: 0.8792 Validation accuracy: 0.8748 Time taken: 287.32s\n",
      "Epoch 7/25\n",
      "Training loss at step 0: 4.3895\n",
      "Training loss at step 200: 0.3474\n",
      "Training loss at step 400: 0.6142\n",
      "Training loss at step 600: 0.1757\n",
      "Training accuracy: 0.9000 Validation accuracy: 0.9104 Time taken: 288.71s\n",
      "Epoch 8/25\n",
      "Training loss at step 0: 5.5622\n",
      "Training loss at step 200: 0.3177\n",
      "Training loss at step 400: 0.4843\n",
      "Training loss at step 600: 0.1221\n",
      "Training accuracy: 0.9066 Validation accuracy: 0.8804 Time taken: 288.03s\n",
      "Epoch 9/25\n",
      "Training loss at step 0: 4.6969\n",
      "Training loss at step 200: 0.2259\n",
      "Training loss at step 400: 0.3779\n",
      "Training loss at step 600: 0.1145\n",
      "Training accuracy: 0.9212 Validation accuracy: 0.9162 Time taken: 288.03s\n",
      "Epoch 10/25\n",
      "Training loss at step 0: 2.9624\n",
      "Training loss at step 200: 0.2006\n",
      "Training loss at step 400: 0.3694\n",
      "Training loss at step 600: 0.0531\n",
      "Training accuracy: 0.9286 Validation accuracy: 0.9032 Time taken: 286.42s\n",
      "Epoch 11/25\n",
      "Training loss at step 0: 4.1922\n",
      "Training loss at step 200: 0.1861\n",
      "Training loss at step 400: 0.3393\n",
      "Training loss at step 600: 0.0547\n",
      "Training accuracy: 0.9341 Validation accuracy: 0.9296 Time taken: 287.57s\n",
      "Epoch 12/25\n",
      "Training loss at step 0: 4.1958\n",
      "Training loss at step 200: 0.2136\n",
      "Training loss at step 400: 0.2645\n",
      "Training loss at step 600: 0.0578\n",
      "Training accuracy: 0.9395 Validation accuracy: 0.9284 Time taken: 287.71s\n",
      "Epoch 13/25\n",
      "Training loss at step 0: 3.8574\n",
      "Training loss at step 200: 0.1889\n",
      "Training loss at step 400: 0.2992\n",
      "Training loss at step 600: 0.1453\n",
      "Training accuracy: 0.9410 Validation accuracy: 0.9274 Time taken: 287.47s\n",
      "Epoch 14/25\n",
      "Training loss at step 0: 2.8673\n",
      "Training loss at step 200: 0.1914\n",
      "Training loss at step 400: 0.3230\n",
      "Training loss at step 600: 0.0438\n",
      "Training accuracy: 0.9473 Validation accuracy: 0.9370 Time taken: 293.54s\n",
      "Epoch 15/25\n",
      "Training loss at step 0: 4.4366\n",
      "Training loss at step 200: 0.2273\n",
      "Training loss at step 400: 0.3014\n",
      "Training loss at step 600: 0.0434\n",
      "Training accuracy: 0.9471 Validation accuracy: 0.9418 Time taken: 287.24s\n",
      "Epoch 16/25\n",
      "Training loss at step 0: 2.6969\n",
      "Training loss at step 200: 0.1548\n",
      "Training loss at step 400: 0.2366\n",
      "Training loss at step 600: 0.0313\n",
      "Training accuracy: 0.9545 Validation accuracy: 0.9446 Time taken: 288.47s\n",
      "Epoch 17/25\n",
      "Training loss at step 0: 2.0031\n",
      "Training loss at step 200: 0.1346\n",
      "Training loss at step 400: 0.2961\n",
      "Training loss at step 600: 0.0384\n",
      "Training accuracy: 0.9568 Validation accuracy: 0.9460 Time taken: 287.83s\n",
      "Epoch 18/25\n",
      "Training loss at step 0: 2.2066\n",
      "Training loss at step 200: 0.1241\n",
      "Training loss at step 400: 0.2582\n",
      "Training loss at step 600: 0.0318\n",
      "Training accuracy: 0.9580 Validation accuracy: 0.9454 Time taken: 289.60s\n",
      "Epoch 19/25\n",
      "Training loss at step 0: 2.0786\n",
      "Training loss at step 200: 0.1476\n",
      "Training loss at step 400: 0.1741\n",
      "Training loss at step 600: 0.0440\n",
      "Training accuracy: 0.9575 Validation accuracy: 0.9464 Time taken: 289.22s\n",
      "Epoch 20/25\n",
      "Training loss at step 0: 2.6158\n",
      "Training loss at step 200: 0.1300\n",
      "Training loss at step 400: 0.2076\n",
      "Training loss at step 600: 0.0218\n",
      "Training accuracy: 0.9579 Validation accuracy: 0.9462 Time taken: 288.10s\n",
      "Epoch 21/25\n",
      "Training loss at step 0: 1.6996\n",
      "Training loss at step 200: 0.1563\n",
      "Training loss at step 400: 0.2176\n",
      "Training loss at step 600: 0.0279\n",
      "Training accuracy: 0.9588 Validation accuracy: 0.9466 Time taken: 289.55s\n",
      "Epoch 22/25\n",
      "Training loss at step 0: 1.7877\n",
      "Training loss at step 200: 0.1419\n",
      "Training loss at step 400: 0.2130\n",
      "Training loss at step 600: 0.0685\n",
      "Training accuracy: 0.9593 Validation accuracy: 0.9458 Time taken: 288.70s\n",
      "Epoch 23/25\n",
      "Training loss at step 0: 1.7689\n",
      "Training loss at step 200: 0.1257\n",
      "Training loss at step 400: 0.2227\n",
      "Training loss at step 600: 0.0227\n",
      "Training accuracy: 0.9585 Validation accuracy: 0.9470 Time taken: 286.28s\n",
      "Epoch 24/25\n",
      "Training loss at step 0: 1.7056\n",
      "Training loss at step 200: 0.1251\n",
      "Training loss at step 400: 0.2180\n",
      "Training loss at step 600: 0.0243\n",
      "Training accuracy: 0.9593 Validation accuracy: 0.9464 Time taken: 286.36s\n",
      "Epoch 25/25\n",
      "Training loss at step 0: 1.7795\n",
      "Training loss at step 200: 0.1718\n",
      "Training loss at step 400: 0.1792\n",
      "Training loss at step 600: 0.0159\n",
      "Training accuracy: 0.9583 Validation accuracy: 0.9462 Time taken: 288.10s\n"
     ]
    }
   ],
   "source": [
    "optimizer = tf.keras.optimizers.SGD(learning_rate=0.1,nesterov=True)\n",
    "loss_fn = tf.keras.losses.SparseCategoricalCrossentropy()\n",
    "train_acc_metric = tf.keras.metrics.SparseCategoricalAccuracy()\n",
    "val_acc_metric = tf.keras.metrics.SparseCategoricalAccuracy()\n",
    "\n",
    "\n",
    "epochs = 25\n",
    "history = [[],[],[]]\n",
    "time_0 = time.time()\n",
    "for epoch in range(epochs):\n",
    "    print(\"Epoch %d/%d\" % (epoch+1,epochs))\n",
    "    if (epoch==15) | (epoch==20):\n",
    "        optimizer.learning_rate = optimizer.learning_rate/10\n",
    "    \n",
    "    start_time = time.time()\n",
    "    step = 0\n",
    "    for x_batch_train, y_batch_train in train_data:\n",
    "        with tf.GradientTape() as tape:\n",
    "            logits = model(x_batch_train, training=True)\n",
    "            loss_value = loss_fn(y_batch_train, logits)\n",
    "        grads = tape.gradient(loss_value, model.trainable_weights)\n",
    "        optimizer.apply_gradients(zip(grads, model.trainable_weights))\n",
    "        train_acc_metric.update_state(y_batch_train, logits)\n",
    "        if step % 200 == 0:\n",
    "            print(\n",
    "                \"Training loss at step %d: %.4f\"\n",
    "                % (step, float(loss_value))\n",
    "            )\n",
    "        step += 1\n",
    "        if step > len(x_train)/batch_size:\n",
    "            break\n",
    "\n",
    "    history[0].append(loss_value.numpy())\n",
    "    train_acc = train_acc_metric.result()\n",
    "    train_acc_metric.reset_states()\n",
    "    \n",
    "    step = 0\n",
    "    for x_batch_val, y_batch_val in validation_data:\n",
    "        val_logits = model(x_batch_val, training=False)\n",
    "        val_acc_metric.update_state(y_batch_val, val_logits)\n",
    "        step += 1\n",
    "        if step > len(x_val)/batch_size:\n",
    "            break\n",
    "    val_acc = val_acc_metric.result()\n",
    "    val_acc_metric.reset_states()\n",
    "    history[1].append(train_acc.numpy())\n",
    "    history[2].append(val_acc.numpy())\n",
    "    print(\"Training accuracy: %.4f\" % (float(train_acc),)\n",
    "          ,\"Validation accuracy: %.4f\" % (float(val_acc),),\"Time taken: %.2fs\" % (time.time() - start_time))\n",
    "time_total = time.time()-time_0"
   ]
  },
  {
   "cell_type": "code",
   "execution_count": 8,
   "id": "f74e4cea",
   "metadata": {},
   "outputs": [],
   "source": [
    "log = np.array(history)\n",
    "np.save(\"./Logs/StochasticNet152_svhn\",log)"
   ]
  },
  {
   "cell_type": "code",
   "execution_count": 11,
   "id": "a8b674eb",
   "metadata": {},
   "outputs": [
    {
     "data": {
      "text/plain": [
       "0.95755225"
      ]
     },
     "execution_count": 11,
     "metadata": {},
     "output_type": "execute_result"
    }
   ],
   "source": [
    "y_predict = model.predict(x_test)\n",
    "m = tf.keras.metrics.SparseCategoricalAccuracy()\n",
    "m.update_state(y_test, y_predict)\n",
    "m.result().numpy()"
   ]
  },
  {
   "cell_type": "code",
   "execution_count": null,
   "id": "f8eb7b25",
   "metadata": {},
   "outputs": [],
   "source": [
    "# model.save(\"./Models/StochasticNet110_cifar10\")"
   ]
  },
  {
   "cell_type": "code",
   "execution_count": 12,
   "id": "6dca6b44",
   "metadata": {},
   "outputs": [],
   "source": [
    "with open('./Logs/StochasticNet152_svhn.npy', 'rb') as f:\n",
    "     log = np.load(f)"
   ]
  },
  {
   "cell_type": "code",
   "execution_count": 13,
   "id": "6285406a",
   "metadata": {},
   "outputs": [
    {
     "data": {
      "text/plain": [
       "<matplotlib.legend.Legend at 0x7f87c2a329e8>"
      ]
     },
     "execution_count": 13,
     "metadata": {},
     "output_type": "execute_result"
    },
    {
     "data": {
      "image/png": "[encoded data removed]",
      "text/plain": [
       "<Figure size 432x288 with 1 Axes>"
      ]
     },
     "metadata": {
      "needs_background": "light"
     },
     "output_type": "display_data"
    }
   ],
   "source": [
    "plt.plot(1-log[1],label='training error')\n",
    "plt.plot(1-log[2],label='validation error')\n",
    "plt.ylim(0,0.4)\n",
    "plt.xlabel('epochs')\n",
    "plt.ylabel('error')\n",
    "plt.legend()"
   ]
  },
  {
   "cell_type": "code",
   "execution_count": null,
   "id": "f505df7a",
   "metadata": {},
   "outputs": [],
   "source": []
  }
 ],
 "metadata": {
  "kernelspec": {
   "display_name": "Python 3",
   "language": "python",
   "name": "python3"
  },
  "language_info": {
   "codemirror_mode": {
    "name": "ipython",
    "version": 3
   },
   "file_extension": ".py",
   "mimetype": "text/x-python",
   "name": "python",
   "nbconvert_exporter": "python",
   "pygments_lexer": "ipython3",
   "version": "3.9.1"
  }
 },
 "nbformat": 4,
 "nbformat_minor": 5
}
