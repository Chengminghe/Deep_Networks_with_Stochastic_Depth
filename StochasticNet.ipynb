{
 "cells": [
  {
   "cell_type": "code",
   "execution_count": 1,
   "id": "pediatric-glance",
   "metadata": {},
   "outputs": [],
   "source": [
    "import tensorflow as tf\n",
    "import numpy as np\n",
    "from utils.stochasticblock import StochasticIdentity,StochasticDownsampling"
   ]
  },
  {
   "cell_type": "code",
   "execution_count": 2,
   "id": "marked-messaging",
   "metadata": {},
   "outputs": [],
   "source": [
    "(x_train, y_train), (x_test, y_test) = tf.keras.datasets.cifar10.load_data()"
   ]
  },
  {
   "cell_type": "code",
   "execution_count": 3,
   "id": "acknowledged-implementation",
   "metadata": {},
   "outputs": [
    {
     "name": "stderr",
     "output_type": "stream",
     "text": [
      "2021-12-08 16:22:18.216848: I tensorflow/compiler/jit/xla_cpu_device.cc:41] Not creating XLA devices, tf_xla_enable_xla_devices not set\n",
      "2021-12-08 16:22:18.217194: I tensorflow/core/platform/cpu_feature_guard.cc:142] This TensorFlow binary is optimized with oneAPI Deep Neural Network Library (oneDNN) to use the following CPU instructions in performance-critical operations:  AVX2 FMA\n",
      "To enable them in other operations, rebuild TensorFlow with the appropriate compiler flags.\n"
     ]
    }
   ],
   "source": [
    "model = StochasticDownsampling((3,3),16,0.5)"
   ]
  },
  {
   "cell_type": "code",
   "execution_count": 4,
   "id": "appropriate-australia",
   "metadata": {},
   "outputs": [],
   "source": [
    "from tensorflow.keras.layers import Conv2D\n",
    "filter1 = Conv2D(16, kernel_size=(3, 3),kernel_initializer='he_normal',padding='same'\n",
    "              ,kernel_regularizer='l2')\n",
    "x = filter1(x_train[1:3].astype('float32'))"
   ]
  },
  {
   "cell_type": "code",
   "execution_count": 5,
   "id": "seeing-movement",
   "metadata": {},
   "outputs": [],
   "source": [
    "a = model(x,training=True)\n",
    "b = model(x,training=True)\n",
    "c = model(x,training=True)\n",
    "d = model(x,training=True)"
   ]
  },
  {
   "cell_type": "code",
   "execution_count": 10,
   "id": "blond-qatar",
   "metadata": {},
   "outputs": [
    {
     "ename": "AttributeError",
     "evalue": "'StochasticIdentity' object has no attribute 'conv_3'",
     "output_type": "error",
     "traceback": [
      "\u001b[0;31m---------------------------------------------------------------------------\u001b[0m",
      "\u001b[0;31mAttributeError\u001b[0m                            Traceback (most recent call last)",
      "\u001b[0;32m/var/folders/nd/hzd0zcf9363clrvwfc13r9940000gn/T/ipykernel_72719/173818235.py\u001b[0m in \u001b[0;36m<module>\u001b[0;34m\u001b[0m\n\u001b[0;32m----> 1\u001b[0;31m \u001b[0mmodel\u001b[0m\u001b[0;34m.\u001b[0m\u001b[0mconv_3\u001b[0m\u001b[0;34m\u001b[0m\u001b[0;34m\u001b[0m\u001b[0m\n\u001b[0m",
      "\u001b[0;31mAttributeError\u001b[0m: 'StochasticIdentity' object has no attribute 'conv_3'"
     ]
    }
   ],
   "source": [
    "model.conv_3"
   ]
  },
  {
   "cell_type": "code",
   "execution_count": null,
   "id": "educated-polymer",
   "metadata": {},
   "outputs": [],
   "source": []
  }
 ],
 "metadata": {
  "kernelspec": {
   "display_name": "env",
   "language": "python",
   "name": "env"
  },
  "language_info": {
   "codemirror_mode": {
    "name": "ipython",
    "version": 3
   },
   "file_extension": ".py",
   "mimetype": "text/x-python",
   "name": "python",
   "nbconvert_exporter": "python",
   "pygments_lexer": "ipython3",
   "version": "3.8.5"
  }
 },
 "nbformat": 4,
 "nbformat_minor": 5
}
